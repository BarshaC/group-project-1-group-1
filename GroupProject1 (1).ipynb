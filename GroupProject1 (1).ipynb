{
 "cells": [
  {
   "cell_type": "code",
   "execution_count": 42,
   "id": "d787835c-4341-4bf3-9ed3-6cbe5af0038e",
   "metadata": {},
   "outputs": [],
   "source": [
    "import pandas as pd\n",
    "import numpy as np"
   ]
  },
  {
   "cell_type": "code",
   "execution_count": 43,
   "id": "553128d0-e343-49e2-96b6-10baa5b5c21a",
   "metadata": {},
   "outputs": [],
   "source": [
    "# load data from user_behavior_dataset file\n",
    "df = pd.read_csv('user_behavior_dataset.csv')"
   ]
  },
  {
   "cell_type": "code",
   "execution_count": 44,
   "id": "d11bb470-502b-46d7-9d07-9aeba7aa3937",
   "metadata": {},
   "outputs": [
    {
     "name": "stdout",
     "output_type": "stream",
     "text": [
      "     User ID        Device Model Operating System  App Usage Time (min/day)  \\\n",
      "0          1      Google Pixel 5          Android                       393   \n",
      "1          2           OnePlus 9          Android                       268   \n",
      "2          3        Xiaomi Mi 11          Android                       154   \n",
      "3          4      Google Pixel 5          Android                       239   \n",
      "4          5           iPhone 12              iOS                       187   \n",
      "..       ...                 ...              ...                       ...   \n",
      "695      696           iPhone 12              iOS                        92   \n",
      "696      697        Xiaomi Mi 11          Android                       316   \n",
      "697      698      Google Pixel 5          Android                        99   \n",
      "698      699  Samsung Galaxy S21          Android                        62   \n",
      "699      700           OnePlus 9          Android                       212   \n",
      "\n",
      "     Screen On Time (hours/day)  Battery Drain (mAh/day)  \\\n",
      "0                           6.4                     1872   \n",
      "1                           4.7                     1331   \n",
      "2                           4.0                      761   \n",
      "3                           4.8                     1676   \n",
      "4                           4.3                     1367   \n",
      "..                          ...                      ...   \n",
      "695                         3.9                     1082   \n",
      "696                         6.8                     1965   \n",
      "697                         3.1                      942   \n",
      "698                         1.7                      431   \n",
      "699                         5.4                     1306   \n",
      "\n",
      "     Number of Apps Installed  Data Usage (MB/day)  Age  Gender  \\\n",
      "0                          67                 1122   40    Male   \n",
      "1                          42                  944   47  Female   \n",
      "2                          32                  322   42    Male   \n",
      "3                          56                  871   20    Male   \n",
      "4                          58                  988   31  Female   \n",
      "..                        ...                  ...  ...     ...   \n",
      "695                        26                  381   22    Male   \n",
      "696                        68                 1201   59    Male   \n",
      "697                        22                  457   50  Female   \n",
      "698                        13                  224   44    Male   \n",
      "699                        49                  828   23  Female   \n",
      "\n",
      "     User Behavior Class  \n",
      "0                      4  \n",
      "1                      3  \n",
      "2                      2  \n",
      "3                      3  \n",
      "4                      3  \n",
      "..                   ...  \n",
      "695                    2  \n",
      "696                    4  \n",
      "697                    2  \n",
      "698                    1  \n",
      "699                    3  \n",
      "\n",
      "[700 rows x 11 columns]\n"
     ]
    }
   ],
   "source": [
    "# print the data\n",
    "print(df)"
   ]
  },
  {
   "cell_type": "code",
   "execution_count": 45,
   "id": "f6ffbeed-0e4a-4f9b-b3ed-d51e10bc4d37",
   "metadata": {},
   "outputs": [
    {
     "name": "stdout",
     "output_type": "stream",
     "text": [
      "    User ID        Device Model Operating System  App Usage Time (min/day)  \\\n",
      "0         1      Google Pixel 5          Android                       393   \n",
      "1         2           OnePlus 9          Android                       268   \n",
      "2         3        Xiaomi Mi 11          Android                       154   \n",
      "3         4      Google Pixel 5          Android                       239   \n",
      "4         5           iPhone 12              iOS                       187   \n",
      "5         6      Google Pixel 5          Android                        99   \n",
      "6         7  Samsung Galaxy S21          Android                       350   \n",
      "7         8           OnePlus 9          Android                       543   \n",
      "8         9  Samsung Galaxy S21          Android                       340   \n",
      "9        10           iPhone 12              iOS                       424   \n",
      "10       11      Google Pixel 5          Android                        53   \n",
      "11       12           OnePlus 9          Android                       215   \n",
      "12       13           OnePlus 9          Android                       462   \n",
      "13       14        Xiaomi Mi 11          Android                       215   \n",
      "14       15           iPhone 12              iOS                       189   \n",
      "15       16      Google Pixel 5          Android                       503   \n",
      "16       17           OnePlus 9          Android                       132   \n",
      "17       18           iPhone 12              iOS                       299   \n",
      "18       19      Google Pixel 5          Android                        81   \n",
      "19       20           iPhone 12              iOS                       577   \n",
      "\n",
      "    Screen On Time (hours/day)  Battery Drain (mAh/day)  \\\n",
      "0                          6.4                     1872   \n",
      "1                          4.7                     1331   \n",
      "2                          4.0                      761   \n",
      "3                          4.8                     1676   \n",
      "4                          4.3                     1367   \n",
      "5                          2.0                      940   \n",
      "6                          7.3                     1802   \n",
      "7                         11.4                     2956   \n",
      "8                          7.7                     2138   \n",
      "9                          6.6                     1957   \n",
      "10                         1.4                      435   \n",
      "11                         5.5                     1690   \n",
      "12                         6.2                     2303   \n",
      "13                         4.9                     1662   \n",
      "14                         5.4                     1754   \n",
      "15                        10.4                     2571   \n",
      "16                         3.6                      628   \n",
      "17                         5.8                     1431   \n",
      "18                         1.4                      558   \n",
      "19                         8.5                     2774   \n",
      "\n",
      "    Number of Apps Installed  Data Usage (MB/day)  Age  Gender  \\\n",
      "0                         67                 1122   40    Male   \n",
      "1                         42                  944   47  Female   \n",
      "2                         32                  322   42    Male   \n",
      "3                         56                  871   20    Male   \n",
      "4                         58                  988   31  Female   \n",
      "5                         35                  564   31    Male   \n",
      "6                         66                 1054   21  Female   \n",
      "7                         82                 1702   31    Male   \n",
      "8                         75                 1053   42  Female   \n",
      "9                         75                 1301   42    Male   \n",
      "10                        17                  162   34  Female   \n",
      "11                        47                  641   24    Male   \n",
      "12                        65                 1099   57  Female   \n",
      "13                        43                  857   43    Male   \n",
      "14                        53                  779   49  Female   \n",
      "15                        84                 2025   39  Female   \n",
      "16                        32                  344   47  Female   \n",
      "17                        41                  985   44  Female   \n",
      "18                        16                  297   26  Female   \n",
      "19                        89                 2192   29  Female   \n",
      "\n",
      "    User Behavior Class  \n",
      "0                     4  \n",
      "1                     3  \n",
      "2                     2  \n",
      "3                     3  \n",
      "4                     3  \n",
      "5                     2  \n",
      "6                     4  \n",
      "7                     5  \n",
      "8                     4  \n",
      "9                     4  \n",
      "10                    1  \n",
      "11                    3  \n",
      "12                    4  \n",
      "13                    3  \n",
      "14                    3  \n",
      "15                    5  \n",
      "16                    2  \n",
      "17                    3  \n",
      "18                    1  \n",
      "19                    5  \n"
     ]
    }
   ],
   "source": [
    "# display first few rows \n",
    "print(df.head(20))"
   ]
  },
  {
   "cell_type": "code",
   "execution_count": 46,
   "id": "7ccd57d6-2374-422b-a02e-1507befa746d",
   "metadata": {},
   "outputs": [],
   "source": [
    "# Device Model\n",
    "# App Usage Time (min/day)\n",
    "# Screen On Time (hours/day)\n",
    "# Number of Apps Installed\n",
    "# Age\n",
    "# Gender \n",
    "selected_cols = ['Device Model', 'App Usage Time (min/day)', 'Screen On Time (hours/day)', 'Number of Apps Installed', 'Age', 'Gender']"
   ]
  },
  {
   "cell_type": "code",
   "execution_count": 47,
   "id": "8023dd91-992f-41f4-818e-1d63d03af0f8",
   "metadata": {},
   "outputs": [],
   "source": [
    "numpy_array = np.array(df[selected_cols])"
   ]
  },
  {
   "cell_type": "code",
   "execution_count": 48,
   "id": "ef3be9ea-f3bc-4fe8-97e6-333a0842b5a2",
   "metadata": {},
   "outputs": [
    {
     "name": "stdout",
     "output_type": "stream",
     "text": [
      "[['Google Pixel 5' 393 6.4 67 40 'Male']\n",
      " ['OnePlus 9' 268 4.7 42 47 'Female']\n",
      " ['Xiaomi Mi 11' 154 4.0 32 42 'Male']\n",
      " ...\n",
      " ['Google Pixel 5' 99 3.1 22 50 'Female']\n",
      " ['Samsung Galaxy S21' 62 1.7 13 44 'Male']\n",
      " ['OnePlus 9' 212 5.4 49 23 'Female']]\n"
     ]
    }
   ],
   "source": [
    "print(numpy_array)"
   ]
  },
  {
   "cell_type": "code",
   "execution_count": 49,
   "id": "5f50378f-747f-43ce-8f7f-7b731d2f0908",
   "metadata": {},
   "outputs": [
    {
     "name": "stdout",
     "output_type": "stream",
     "text": [
      "        App Usage Time (min/day)  Screen On Time (hours/day)  \\\n",
      "mean                  271.128571                    5.272714   \n",
      "median                227.500000                    4.900000   \n",
      "std                   177.199484                    3.068584   \n",
      "\n",
      "        Number of Apps Installed  \n",
      "mean                   50.681429  \n",
      "median                 49.000000  \n",
      "std                    26.943324  \n"
     ]
    }
   ],
   "source": [
    "# mean, median and standard deviation\n",
    "cols_to_analyze = ['App Usage Time (min/day)', 'Screen On Time (hours/day)', 'Number of Apps Installed']\n",
    "stats = df[cols_to_analyze].agg(['mean', 'median', 'std'])\n",
    "print(stats)"
   ]
  },
  {
   "cell_type": "code",
   "execution_count": 50,
   "id": "eb04d592-ce64-4f24-99c7-8aaf218bea13",
   "metadata": {},
   "outputs": [
    {
     "data": {
      "text/plain": [
       "'App Usage Time (min/day)'"
      ]
     },
     "execution_count": 50,
     "metadata": {},
     "output_type": "execute_result"
    }
   ],
   "source": [
    "'App Usage Time (min/day)'"
   ]
  },
  {
   "cell_type": "code",
   "execution_count": 51,
   "id": "7636de48-9ed5-4e35-8c81-27f99f4597c6",
   "metadata": {},
   "outputs": [
    {
     "name": "stdout",
     "output_type": "stream",
     "text": [
      "[['Google Pixel 5' 393 6.4 67 40 'Male']\n",
      " ['OnePlus 9' 268 4.7 42 47 'Female']\n",
      " ['Xiaomi Mi 11' 154 4.0 32 42 'Male']\n",
      " ...\n",
      " ['Google Pixel 5' 99 3.1 22 50 'Female']\n",
      " ['Samsung Galaxy S21' 62 1.7 13 44 'Male']\n",
      " ['OnePlus 9' 212 5.4 49 23 'Female']]\n"
     ]
    }
   ],
   "source": [
    "# print the numpy array to see the changes\n",
    "print(numpy_array)"
   ]
  },
  {
   "cell_type": "code",
   "execution_count": 52,
   "id": "2492bc97-b5dc-4cbe-a585-29fabbbfdd20",
   "metadata": {},
   "outputs": [
    {
     "name": "stdout",
     "output_type": "stream",
     "text": [
      "Device Model\n",
      "Xiaomi Mi 11          146\n",
      "iPhone 12             146\n",
      "Google Pixel 5        142\n",
      "OnePlus 9             133\n",
      "Samsung Galaxy S21    133\n",
      "Name: count, dtype: int64\n"
     ]
    }
   ],
   "source": [
    "# count for device model used\n",
    "device_model_counts = df['Device Model'].value_counts()\n",
    "print(device_model_counts)"
   ]
  },
  {
   "cell_type": "markdown",
   "id": "39d6556c-1187-4b5f-b8fc-a9a0e3f03c00",
   "metadata": {},
   "source": [
    "# 4. Data Cleaning with Pandas"
   ]
  },
  {
   "cell_type": "markdown",
   "id": "087b39df-b584-44ee-8ea6-46ca1bbd22bd",
   "metadata": {},
   "source": [
    "#### Handle Missing Data using dropna() or fillna() depending on the nature of the missing data"
   ]
  },
  {
   "cell_type": "code",
   "execution_count": 53,
   "id": "7ae04d0e-2481-48b3-bfad-1ccd6d69a4f2",
   "metadata": {},
   "outputs": [
    {
     "name": "stdout",
     "output_type": "stream",
     "text": [
      "User ID                       0\n",
      "Device Model                  0\n",
      "Operating System              0\n",
      "App Usage Time (min/day)      0\n",
      "Screen On Time (hours/day)    0\n",
      "Battery Drain (mAh/day)       0\n",
      "Number of Apps Installed      0\n",
      "Data Usage (MB/day)           0\n",
      "Age                           0\n",
      "Gender                        0\n",
      "User Behavior Class           0\n",
      "dtype: int64\n"
     ]
    }
   ],
   "source": [
    "# Check for missing values\n",
    "missing_data = df.isnull().sum()\n",
    "print(missing_data)\n"
   ]
  },
  {
   "cell_type": "markdown",
   "id": "34fff05a-3861-4f55-92e5-720a0d978cbf",
   "metadata": {},
   "source": [
    "#### There are no missing values in this DataFrame! "
   ]
  },
  {
   "cell_type": "markdown",
   "id": "3bdf0a10-ab41-4ece-bb48-b30e56d1c746",
   "metadata": {},
   "source": [
    "#### Check for and remove duplicate entries using drop_duplicates(). "
   ]
  },
  {
   "cell_type": "code",
   "execution_count": 54,
   "id": "a3c93ad6-fc14-43e4-bc12-99c8f5dae886",
   "metadata": {},
   "outputs": [
    {
     "name": "stdout",
     "output_type": "stream",
     "text": [
      "0\n"
     ]
    }
   ],
   "source": [
    "# Check for duplicate rows\n",
    "duplicates = df.duplicated()\n",
    "print(duplicates.sum())  # Number of duplicate rows\n"
   ]
  },
  {
   "cell_type": "markdown",
   "id": "991e9d89-1954-4b6a-9e75-0c228fa0493d",
   "metadata": {},
   "source": [
    "#### There are 0 duplicate rows! "
   ]
  },
  {
   "cell_type": "markdown",
   "id": "6e639f23-3303-446e-9d00-b9fa4633e4b7",
   "metadata": {},
   "source": [
    "# 5. Data Filtering and Selection"
   ]
  },
  {
   "cell_type": "markdown",
   "id": "0a92df55-004f-4416-9ecc-152b4afc69b2",
   "metadata": {},
   "source": [
    "### Filter the rows where a certain column's value is greater than a threshold (df[df['column']>value]). "
   ]
  },
  {
   "cell_type": "code",
   "execution_count": 55,
   "id": "3dfc3abd-cbc1-4cf7-bbb3-1353627077a2",
   "metadata": {},
   "outputs": [
    {
     "name": "stdout",
     "output_type": "stream",
     "text": [
      "     User ID        Device Model Operating System  App Usage Time (min/day)  \\\n",
      "0          1      Google Pixel 5          Android                       393   \n",
      "6          7  Samsung Galaxy S21          Android                       350   \n",
      "7          8           OnePlus 9          Android                       543   \n",
      "8          9  Samsung Galaxy S21          Android                       340   \n",
      "9         10           iPhone 12              iOS                       424   \n",
      "..       ...                 ...              ...                       ...   \n",
      "689      690  Samsung Galaxy S21          Android                       541   \n",
      "692      693        Xiaomi Mi 11          Android                       378   \n",
      "693      694        Xiaomi Mi 11          Android                       505   \n",
      "694      695  Samsung Galaxy S21          Android                       564   \n",
      "696      697        Xiaomi Mi 11          Android                       316   \n",
      "\n",
      "     Screen On Time (hours/day)  Battery Drain (mAh/day)  \\\n",
      "0                           6.4                     1872   \n",
      "6                           7.3                     1802   \n",
      "7                          11.4                     2956   \n",
      "8                           7.7                     2138   \n",
      "9                           6.6                     1957   \n",
      "..                          ...                      ...   \n",
      "689                         9.5                     2424   \n",
      "692                         6.7                     1898   \n",
      "693                         8.6                     2792   \n",
      "694                         9.7                     2422   \n",
      "696                         6.8                     1965   \n",
      "\n",
      "     Number of Apps Installed  Data Usage (MB/day)  Age  Gender  \\\n",
      "0                          67                 1122   40    Male   \n",
      "6                          66                 1054   21  Female   \n",
      "7                          82                 1702   31    Male   \n",
      "8                          75                 1053   42  Female   \n",
      "9                          75                 1301   42    Male   \n",
      "..                        ...                  ...  ...     ...   \n",
      "689                        98                 1550   32    Male   \n",
      "692                        78                 1455   48  Female   \n",
      "693                        82                 1709   31    Male   \n",
      "694                        83                 1985   34  Female   \n",
      "696                        68                 1201   59    Male   \n",
      "\n",
      "     User Behavior Class  \n",
      "0                      4  \n",
      "6                      4  \n",
      "7                      5  \n",
      "8                      4  \n",
      "9                      4  \n",
      "..                   ...  \n",
      "689                    5  \n",
      "692                    4  \n",
      "693                    5  \n",
      "694                    5  \n",
      "696                    4  \n",
      "\n",
      "[275 rows x 11 columns]\n"
     ]
    }
   ],
   "source": [
    "# Example: Filter rows where 'App Usage Time (min/day)' is greater than 300\n",
    "filtered_df = df[df['App Usage Time (min/day)'] > 300]\n",
    "print(filtered_df)\n"
   ]
  },
  {
   "cell_type": "markdown",
   "id": "08220c75-e69c-47a2-be51-0167f0041273",
   "metadata": {},
   "source": [
    "### Use .loc[] and .iloc[] to select specific rows and columns"
   ]
  },
  {
   "cell_type": "code",
   "execution_count": 56,
   "id": "45fc945d-61b9-4e11-8a60-17bd047279a2",
   "metadata": {},
   "outputs": [
    {
     "name": "stdout",
     "output_type": "stream",
     "text": [
      "     Device Model  App Usage Time (min/day)\n",
      "0  Google Pixel 5                       393\n",
      "1       OnePlus 9                       268\n",
      "2    Xiaomi Mi 11                       154\n",
      "3  Google Pixel 5                       239\n"
     ]
    }
   ],
   "source": [
    "# Example: Select rows 0 to 3 and columns 'Device Model' and 'App Usage Time (min/day)'\n",
    "selected_data = df.loc[0:3, ['Device Model', 'App Usage Time (min/day)']]\n",
    "print(selected_data)\n"
   ]
  },
  {
   "cell_type": "code",
   "execution_count": 57,
   "id": "8e48df03-faa6-4287-93ec-6302432a3800",
   "metadata": {},
   "outputs": [
    {
     "name": "stdout",
     "output_type": "stream",
     "text": [
      "   User ID    Device Model Operating System\n",
      "0        1  Google Pixel 5          Android\n",
      "1        2       OnePlus 9          Android\n",
      "2        3    Xiaomi Mi 11          Android\n",
      "3        4  Google Pixel 5          Android\n",
      "4        5       iPhone 12              iOS\n"
     ]
    }
   ],
   "source": [
    "# Example: Select the first 5 rows and the first 3 columns (based on numerical index)\n",
    "selected_data = df.iloc[0:5, 0:3]  # Rows 0-4 and columns 0-2\n",
    "print(selected_data)\n"
   ]
  },
  {
   "cell_type": "markdown",
   "id": "ae99ab77-1e7c-4077-a466-d0227506bd82",
   "metadata": {},
   "source": [
    "# 6. Sorting and Ranking"
   ]
  },
  {
   "cell_type": "markdown",
   "id": "fd347e95-977d-4093-bcfd-77d9b0ebbd35",
   "metadata": {},
   "source": [
    "### Sort the dataset by specific columns using sort_values() "
   ]
  },
  {
   "cell_type": "code",
   "execution_count": 58,
   "id": "1b53be41-6b31-40d7-8021-e1409df09622",
   "metadata": {},
   "outputs": [
    {
     "name": "stdout",
     "output_type": "stream",
     "text": [
      "     User ID        Device Model Operating System  App Usage Time (min/day)  \\\n",
      "355      356  Samsung Galaxy S21          Android                        30   \n",
      "337      338  Samsung Galaxy S21          Android                        30   \n",
      "244      245           OnePlus 9          Android                        30   \n",
      "73        74        Xiaomi Mi 11          Android                        31   \n",
      "163      164           iPhone 12              iOS                        32   \n",
      "..       ...                 ...              ...                       ...   \n",
      "654      655      Google Pixel 5          Android                       594   \n",
      "166      167      Google Pixel 5          Android                       595   \n",
      "184      185        Xiaomi Mi 11          Android                       597   \n",
      "341      342           iPhone 12              iOS                       597   \n",
      "367      368           OnePlus 9          Android                       598   \n",
      "\n",
      "     Screen On Time (hours/day)  Battery Drain (mAh/day)  \\\n",
      "355                         1.9                      574   \n",
      "337                         1.3                      561   \n",
      "244                         1.3                      479   \n",
      "73                          1.1                      585   \n",
      "163                         2.0                      469   \n",
      "..                          ...                      ...   \n",
      "654                        10.5                     2839   \n",
      "166                        11.3                     2968   \n",
      "184                        10.4                     2984   \n",
      "341                        10.3                     2718   \n",
      "367                        11.2                     2876   \n",
      "\n",
      "     Number of Apps Installed  Data Usage (MB/day)  Age  Gender  \\\n",
      "355                        19                  287   45    Male   \n",
      "337                        15                  252   34    Male   \n",
      "244                        16                  253   35    Male   \n",
      "73                         11                  208   50  Female   \n",
      "163                        18                  139   22    Male   \n",
      "..                        ...                  ...  ...     ...   \n",
      "654                        91                 1647   56    Male   \n",
      "166                        88                 2366   30    Male   \n",
      "184                        91                 1564   34  Female   \n",
      "341                        90                 1863   26  Female   \n",
      "367                        85                 2477   58  Female   \n",
      "\n",
      "     User Behavior Class  \n",
      "355                    1  \n",
      "337                    1  \n",
      "244                    1  \n",
      "73                     1  \n",
      "163                    1  \n",
      "..                   ...  \n",
      "654                    5  \n",
      "166                    5  \n",
      "184                    5  \n",
      "341                    5  \n",
      "367                    5  \n",
      "\n",
      "[700 rows x 11 columns]\n"
     ]
    }
   ],
   "source": [
    "# Sorting the DataFrame by 'App Usage Time (min/day)' (ascending) and 'Battery Drain (mAh/day)' (descending)\n",
    "sorted_df = df.sort_values(by=['App Usage Time (min/day)'], ascending=[True])\n",
    "print(sorted_df)\n",
    "\n"
   ]
  },
  {
   "cell_type": "markdown",
   "id": "096e23ab-2a1a-4f8f-a97e-a860f96bdbdc",
   "metadata": {},
   "source": [
    "#### I decided to sort the DataFrame by the App Usage column and put it in ascending order. "
   ]
  },
  {
   "cell_type": "markdown",
   "id": "9b1a06a4-f771-4012-b002-ce3957d9bb6a",
   "metadata": {},
   "source": [
    "### Rank coulmns using rank() to assign relative ranks to data entries within a column"
   ]
  },
  {
   "cell_type": "markdown",
   "id": "aefa448c-1c79-4851-b1fc-e5258f4470f8",
   "metadata": {},
   "source": [
    "### ???? "
   ]
  },
  {
   "cell_type": "markdown",
   "id": "cd10eee3-d4c4-4bc3-8f9f-174d1cc28ffa",
   "metadata": {},
   "source": [
    "# 7. Grouping and Aggregation"
   ]
  },
  {
   "cell_type": "markdown",
   "id": "ea65c024-1fcc-48d5-8aa9-3735a55b3711",
   "metadata": {},
   "source": [
    "### Use groupby() to group data by a categorical column and perform an aggregate operation like sum(), mean(), count(). "
   ]
  },
  {
   "cell_type": "code",
   "execution_count": 59,
   "id": "67ee0c2c-7872-482d-a7b8-0a19ce9f8c2b",
   "metadata": {},
   "outputs": [
    {
     "name": "stdout",
     "output_type": "stream",
     "text": [
      "User Count by Operating System:\n",
      "Operating System\n",
      "Android    554\n",
      "iOS        146\n",
      "Name: User ID, dtype: int64\n"
     ]
    }
   ],
   "source": [
    "# Count the number of users per operating system\n",
    "user_count = df.groupby('Operating System')['User ID'].count()\n",
    "\n",
    "print(\"User Count by Operating System:\")\n",
    "print(user_count)\n"
   ]
  },
  {
   "cell_type": "markdown",
   "id": "6c259ddf-85d3-41e5-9073-fdd12e9587ce",
   "metadata": {},
   "source": [
    "#### This code will allow us to see a count of how many users are under each operating system. "
   ]
  },
  {
   "cell_type": "markdown",
   "id": "d1c77120-99fd-4dad-af6e-1de5eb09ef4a",
   "metadata": {},
   "source": [
    "#### Explore various aggregations like min(),max(), mean(), std(). "
   ]
  },
  {
   "cell_type": "code",
   "execution_count": 60,
   "id": "11d1ece1-05d2-4b5c-aa40-38161bf66d66",
   "metadata": {},
   "outputs": [
    {
     "name": "stdout",
     "output_type": "stream",
     "text": [
      "Minimum Battery Drain:\n",
      "Operating System\n",
      "Android    302\n",
      "iOS        308\n",
      "Name: Battery Drain (mAh/day), dtype: int64\n"
     ]
    }
   ],
   "source": [
    "# Minimum Battery Drain\n",
    "min_battery_drain = df.groupby('Operating System')['Battery Drain (mAh/day)'].min()\n",
    "print(\"Minimum Battery Drain:\")\n",
    "print(min_battery_drain)\n"
   ]
  },
  {
   "cell_type": "markdown",
   "id": "daa6c805-aa78-42e0-926a-ef77f8d11fa6",
   "metadata": {},
   "source": [
    "#### This results in the minimum battery drain for each operating system. "
   ]
  },
  {
   "cell_type": "code",
   "execution_count": 61,
   "id": "33fd6fd4-9507-4870-bcb7-30e0bfad0842",
   "metadata": {},
   "outputs": [
    {
     "name": "stdout",
     "output_type": "stream",
     "text": [
      "\n",
      "Maximum App Usage Time:\n",
      "Operating System\n",
      "Android    598\n",
      "iOS        597\n",
      "Name: App Usage Time (min/day), dtype: int64\n"
     ]
    }
   ],
   "source": [
    "# Maximum App Usage Time\n",
    "max_app_usage_time = df.groupby('Operating System')['App Usage Time (min/day)'].max()\n",
    "print(\"\\nMaximum App Usage Time:\")\n",
    "print(max_app_usage_time)\n"
   ]
  },
  {
   "cell_type": "markdown",
   "id": "f77fa2f5-7767-4db2-a6d2-b10381ab57b2",
   "metadata": {},
   "source": [
    "#### This is the maximum app usage time on each operating system"
   ]
  },
  {
   "cell_type": "code",
   "execution_count": 62,
   "id": "f3321fc4-c8f6-4306-a159-b3cc8aabbf22",
   "metadata": {},
   "outputs": [
    {
     "name": "stdout",
     "output_type": "stream",
     "text": [
      "\n",
      "Mean Battery Drain:\n",
      "Operating System\n",
      "Android    1508.198556\n",
      "iOS        1589.513699\n",
      "Name: Battery Drain (mAh/day), dtype: float64\n"
     ]
    }
   ],
   "source": [
    "# Mean Battery Drain\n",
    "mean_battery_drain = df.groupby('Operating System')['Battery Drain (mAh/day)'].mean()\n",
    "print(\"\\nMean Battery Drain:\")\n",
    "print(mean_battery_drain)\n"
   ]
  },
  {
   "cell_type": "markdown",
   "id": "4cd55d70-880c-45db-8e5d-a7d2a408892e",
   "metadata": {},
   "source": [
    "### This output shows the mean of the battery drain for the operating systems"
   ]
  },
  {
   "cell_type": "code",
   "execution_count": 63,
   "id": "4a813d3e-08a5-4dae-8186-e6ca4c4cd0e9",
   "metadata": {},
   "outputs": [
    {
     "name": "stdout",
     "output_type": "stream",
     "text": [
      "\n",
      "Standard Deviation of App Usage Time:\n",
      "Operating System\n",
      "Android    179.188678\n",
      "iOS        169.592390\n",
      "Name: App Usage Time (min/day), dtype: float64\n"
     ]
    }
   ],
   "source": [
    "\n",
    "# Standard Deviation of App Usage Time\n",
    "std_app_usage_time = df.groupby('Operating System')['App Usage Time (min/day)'].std()\n",
    "print(\"\\nStandard Deviation of App Usage Time:\")\n",
    "print(std_app_usage_time)\n"
   ]
  },
  {
   "cell_type": "markdown",
   "id": "e6d71eb4-bfec-4e7b-804a-b0d3d7240506",
   "metadata": {},
   "source": [
    "### This is the standard deviation for the app usage time for both Android and iOS"
   ]
  },
  {
   "cell_type": "code",
   "execution_count": null,
   "id": "4c99ed92-4da1-4e75-97fd-486859507f6b",
   "metadata": {},
   "outputs": [],
   "source": []
  }
 ],
 "metadata": {
  "kernelspec": {
   "display_name": "Python 3 (ipykernel)",
   "language": "python",
   "name": "python3"
  },
  "language_info": {
   "codemirror_mode": {
    "name": "ipython",
    "version": 3
   },
   "file_extension": ".py",
   "mimetype": "text/x-python",
   "name": "python",
   "nbconvert_exporter": "python",
   "pygments_lexer": "ipython3",
   "version": "3.12.4"
  }
 },
 "nbformat": 4,
 "nbformat_minor": 5
}
