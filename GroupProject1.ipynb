{
 "cells": [
  {
   "cell_type": "code",
   "execution_count": 43,
   "id": "d787835c-4341-4bf3-9ed3-6cbe5af0038e",
   "metadata": {},
   "outputs": [],
   "source": [
    "import pandas as pd\n",
    "import numpy as np"
   ]
  },
  {
   "cell_type": "code",
   "execution_count": 59,
   "id": "553128d0-e343-49e2-96b6-10baa5b5c21a",
   "metadata": {},
   "outputs": [],
   "source": [
    "# load data from user_behavior_dataset file\n",
    "df = pd.read_csv('user_behavior_dataset.csv')"
   ]
  },
  {
   "cell_type": "code",
   "execution_count": 61,
   "id": "d11bb470-502b-46d7-9d07-9aeba7aa3937",
   "metadata": {},
   "outputs": [
    {
     "name": "stdout",
     "output_type": "stream",
     "text": [
      "     User ID        Device Model Operating System  App Usage Time (min/day)  \\\n",
      "0          1      Google Pixel 5          Android                       393   \n",
      "1          2           OnePlus 9          Android                       268   \n",
      "2          3        Xiaomi Mi 11          Android                       154   \n",
      "3          4      Google Pixel 5          Android                       239   \n",
      "4          5           iPhone 12              iOS                       187   \n",
      "..       ...                 ...              ...                       ...   \n",
      "695      696           iPhone 12              iOS                        92   \n",
      "696      697        Xiaomi Mi 11          Android                       316   \n",
      "697      698      Google Pixel 5          Android                        99   \n",
      "698      699  Samsung Galaxy S21          Android                        62   \n",
      "699      700           OnePlus 9          Android                       212   \n",
      "\n",
      "     Screen On Time (hours/day)  Battery Drain (mAh/day)  \\\n",
      "0                           6.4                     1872   \n",
      "1                           4.7                     1331   \n",
      "2                           4.0                      761   \n",
      "3                           4.8                     1676   \n",
      "4                           4.3                     1367   \n",
      "..                          ...                      ...   \n",
      "695                         3.9                     1082   \n",
      "696                         6.8                     1965   \n",
      "697                         3.1                      942   \n",
      "698                         1.7                      431   \n",
      "699                         5.4                     1306   \n",
      "\n",
      "     Number of Apps Installed  Data Usage (MB/day)  Age  Gender  \\\n",
      "0                          67                 1122   40    Male   \n",
      "1                          42                  944   47  Female   \n",
      "2                          32                  322   42    Male   \n",
      "3                          56                  871   20    Male   \n",
      "4                          58                  988   31  Female   \n",
      "..                        ...                  ...  ...     ...   \n",
      "695                        26                  381   22    Male   \n",
      "696                        68                 1201   59    Male   \n",
      "697                        22                  457   50  Female   \n",
      "698                        13                  224   44    Male   \n",
      "699                        49                  828   23  Female   \n",
      "\n",
      "     User Behavior Class  \n",
      "0                      4  \n",
      "1                      3  \n",
      "2                      2  \n",
      "3                      3  \n",
      "4                      3  \n",
      "..                   ...  \n",
      "695                    2  \n",
      "696                    4  \n",
      "697                    2  \n",
      "698                    1  \n",
      "699                    3  \n",
      "\n",
      "[700 rows x 11 columns]\n"
     ]
    }
   ],
   "source": [
    "# print the data\n",
    "print(df)"
   ]
  },
  {
   "cell_type": "code",
   "execution_count": 65,
   "id": "f6ffbeed-0e4a-4f9b-b3ed-d51e10bc4d37",
   "metadata": {},
   "outputs": [
    {
     "name": "stdout",
     "output_type": "stream",
     "text": [
      "    User ID        Device Model Operating System  App Usage Time (min/day)  \\\n",
      "0         1      Google Pixel 5          Android                       393   \n",
      "1         2           OnePlus 9          Android                       268   \n",
      "2         3        Xiaomi Mi 11          Android                       154   \n",
      "3         4      Google Pixel 5          Android                       239   \n",
      "4         5           iPhone 12              iOS                       187   \n",
      "5         6      Google Pixel 5          Android                        99   \n",
      "6         7  Samsung Galaxy S21          Android                       350   \n",
      "7         8           OnePlus 9          Android                       543   \n",
      "8         9  Samsung Galaxy S21          Android                       340   \n",
      "9        10           iPhone 12              iOS                       424   \n",
      "10       11      Google Pixel 5          Android                        53   \n",
      "11       12           OnePlus 9          Android                       215   \n",
      "12       13           OnePlus 9          Android                       462   \n",
      "13       14        Xiaomi Mi 11          Android                       215   \n",
      "14       15           iPhone 12              iOS                       189   \n",
      "15       16      Google Pixel 5          Android                       503   \n",
      "16       17           OnePlus 9          Android                       132   \n",
      "17       18           iPhone 12              iOS                       299   \n",
      "18       19      Google Pixel 5          Android                        81   \n",
      "19       20           iPhone 12              iOS                       577   \n",
      "\n",
      "    Screen On Time (hours/day)  Battery Drain (mAh/day)  \\\n",
      "0                          6.4                     1872   \n",
      "1                          4.7                     1331   \n",
      "2                          4.0                      761   \n",
      "3                          4.8                     1676   \n",
      "4                          4.3                     1367   \n",
      "5                          2.0                      940   \n",
      "6                          7.3                     1802   \n",
      "7                         11.4                     2956   \n",
      "8                          7.7                     2138   \n",
      "9                          6.6                     1957   \n",
      "10                         1.4                      435   \n",
      "11                         5.5                     1690   \n",
      "12                         6.2                     2303   \n",
      "13                         4.9                     1662   \n",
      "14                         5.4                     1754   \n",
      "15                        10.4                     2571   \n",
      "16                         3.6                      628   \n",
      "17                         5.8                     1431   \n",
      "18                         1.4                      558   \n",
      "19                         8.5                     2774   \n",
      "\n",
      "    Number of Apps Installed  Data Usage (MB/day)  Age  Gender  \\\n",
      "0                         67                 1122   40    Male   \n",
      "1                         42                  944   47  Female   \n",
      "2                         32                  322   42    Male   \n",
      "3                         56                  871   20    Male   \n",
      "4                         58                  988   31  Female   \n",
      "5                         35                  564   31    Male   \n",
      "6                         66                 1054   21  Female   \n",
      "7                         82                 1702   31    Male   \n",
      "8                         75                 1053   42  Female   \n",
      "9                         75                 1301   42    Male   \n",
      "10                        17                  162   34  Female   \n",
      "11                        47                  641   24    Male   \n",
      "12                        65                 1099   57  Female   \n",
      "13                        43                  857   43    Male   \n",
      "14                        53                  779   49  Female   \n",
      "15                        84                 2025   39  Female   \n",
      "16                        32                  344   47  Female   \n",
      "17                        41                  985   44  Female   \n",
      "18                        16                  297   26  Female   \n",
      "19                        89                 2192   29  Female   \n",
      "\n",
      "    User Behavior Class  \n",
      "0                     4  \n",
      "1                     3  \n",
      "2                     2  \n",
      "3                     3  \n",
      "4                     3  \n",
      "5                     2  \n",
      "6                     4  \n",
      "7                     5  \n",
      "8                     4  \n",
      "9                     4  \n",
      "10                    1  \n",
      "11                    3  \n",
      "12                    4  \n",
      "13                    3  \n",
      "14                    3  \n",
      "15                    5  \n",
      "16                    2  \n",
      "17                    3  \n",
      "18                    1  \n",
      "19                    5  \n"
     ]
    }
   ],
   "source": [
    "# display first few rows \n",
    "print(df.head(20))"
   ]
  },
  {
   "cell_type": "code",
   "execution_count": 69,
   "id": "7ccd57d6-2374-422b-a02e-1507befa746d",
   "metadata": {},
   "outputs": [],
   "source": [
    "# Device Model\n",
    "# App Usage Time (min/day)\n",
    "# Screen On Time (hours/day)\n",
    "# Number of Apps Installed\n",
    "# Age\n",
    "# Gender \n",
    "selected_cols = ['Device Model', 'App Usage Time (min/day)', 'Screen On Time (hours/day)', 'Number of Apps Installed', 'Age', 'Gender']"
   ]
  },
  {
   "cell_type": "code",
   "execution_count": 71,
   "id": "8023dd91-992f-41f4-818e-1d63d03af0f8",
   "metadata": {},
   "outputs": [],
   "source": [
    "numpy_array = np.array(df[selected_cols])"
   ]
  },
  {
   "cell_type": "code",
   "execution_count": 73,
   "id": "ef3be9ea-f3bc-4fe8-97e6-333a0842b5a2",
   "metadata": {},
   "outputs": [
    {
     "name": "stdout",
     "output_type": "stream",
     "text": [
      "[['Google Pixel 5' 393 6.4 67 40 'Male']\n",
      " ['OnePlus 9' 268 4.7 42 47 'Female']\n",
      " ['Xiaomi Mi 11' 154 4.0 32 42 'Male']\n",
      " ...\n",
      " ['Google Pixel 5' 99 3.1 22 50 'Female']\n",
      " ['Samsung Galaxy S21' 62 1.7 13 44 'Male']\n",
      " ['OnePlus 9' 212 5.4 49 23 'Female']]\n"
     ]
    }
   ],
   "source": [
    "print(numpy_array)"
   ]
  },
  {
   "cell_type": "code",
   "execution_count": 77,
   "id": "5f50378f-747f-43ce-8f7f-7b731d2f0908",
   "metadata": {},
   "outputs": [
    {
     "name": "stdout",
     "output_type": "stream",
     "text": [
      "        App Usage Time (min/day)  Screen On Time (hours/day)  \\\n",
      "mean                  271.128571                    5.272714   \n",
      "median                227.500000                    4.900000   \n",
      "std                   177.199484                    3.068584   \n",
      "\n",
      "        Number of Apps Installed  \n",
      "mean                   50.681429  \n",
      "median                 49.000000  \n",
      "std                    26.943324  \n"
     ]
    }
   ],
   "source": [
    "# mean, median and standard deviation\n",
    "cols_to_analyze = ['App Usage Time (min/day)', 'Screen On Time (hours/day)', 'Number of Apps Installed']\n",
    "stats = df[cols_to_analyze].agg(['mean', 'median', 'std'])\n",
    "print(stats)"
   ]
  },
  {
   "cell_type": "code",
   "execution_count": 113,
   "id": "eb04d592-ce64-4f24-99c7-8aaf218bea13",
   "metadata": {},
   "outputs": [],
   "source": [
    "'App Usage Time (min/day)'"
   ]
  },
  {
   "cell_type": "code",
   "execution_count": 115,
   "id": "7636de48-9ed5-4e35-8c81-27f99f4597c6",
   "metadata": {},
   "outputs": [
    {
     "name": "stdout",
     "output_type": "stream",
     "text": [
      "[['Google Pixel 5' 0.0 6.4 67 40 'Male']\n",
      " ['OnePlus 9' 0.0 4.7 42 47 'Female']\n",
      " ['Xiaomi Mi 11' 0.0 4.0 32 42 'Male']\n",
      " ...\n",
      " ['Google Pixel 5' 0.0 3.1 22 50 'Female']\n",
      " ['Samsung Galaxy S21' 0.0 1.7 13 44 'Male']\n",
      " ['OnePlus 9' 0.0 5.4 49 23 'Female']]\n"
     ]
    }
   ],
   "source": [
    "# print the numpy array to see the changes\n",
    "print(numpy_array)"
   ]
  },
  {
   "cell_type": "code",
   "execution_count": 81,
   "id": "2492bc97-b5dc-4cbe-a585-29fabbbfdd20",
   "metadata": {},
   "outputs": [
    {
     "name": "stdout",
     "output_type": "stream",
     "text": [
      "Device Model\n",
      "Xiaomi Mi 11          146\n",
      "iPhone 12             146\n",
      "Google Pixel 5        142\n",
      "OnePlus 9             133\n",
      "Samsung Galaxy S21    133\n",
      "Name: count, dtype: int64\n"
     ]
    }
   ],
   "source": [
    "# count for device model used\n",
    "device_model_counts = df['Device Model'].value_counts()\n",
    "print(device_model_counts)"
   ]
  },
  {
   "cell_type": "code",
   "execution_count": null,
   "id": "5048bd9c-5d4f-419a-bfb6-b38555edcc28",
   "metadata": {},
   "outputs": [],
   "source": []
  }
 ],
 "metadata": {
  "kernelspec": {
   "display_name": "anaconda-panel-2023.05-py310",
   "language": "python",
   "name": "conda-env-anaconda-panel-2023.05-py310-py"
  },
  "language_info": {
   "codemirror_mode": {
    "name": "ipython",
    "version": 3
   },
   "file_extension": ".py",
   "mimetype": "text/x-python",
   "name": "python",
   "nbconvert_exporter": "python",
   "pygments_lexer": "ipython3",
   "version": "3.11.5"
  }
 },
 "nbformat": 4,
 "nbformat_minor": 5
}
