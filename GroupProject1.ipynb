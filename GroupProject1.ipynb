{
 "cells": [
  {
   "cell_type": "markdown",
   "id": "957d0bd9-3a33-4fc9-a3ea-65ba71c3a0e1",
   "metadata": {},
   "source": [
    "# Group Project #1\n",
    "## Richelle Johnson, @03106854\n",
    "### Data Set: Mobile Device Usage and User Behavior Data, from Vala Khorasani via Kaggle"
   ]
  },
  {
   "cell_type": "code",
   "execution_count": 4,
   "id": "d7fac0ca-778a-406c-a282-e498a71e6bb4",
   "metadata": {},
   "outputs": [],
   "source": [
    "import pandas as pd\n",
    "import numpy as np"
   ]
  },
  {
   "cell_type": "markdown",
   "id": "083ef092-02eb-44cb-97b4-84e610ea6652",
   "metadata": {},
   "source": [
    "#### Step 2: Data Loading\n",
    "##### Using the **read_csv()** function, the data set is loaded into the notebook. The data set is labeled as \"df\" to make the code more legible. Using the print() command, the \"df\" was printed and displayed. There are 11 columns in the dataset, but 700 rows, so while all the columns are present, all the rows cannot be displayed at once. This is why the head() command was helpful, and it was used to display the first 20 rows."
   ]
  },
  {
   "cell_type": "code",
   "execution_count": 6,
   "id": "1f0be47c-f876-4252-b372-594580ac3d88",
   "metadata": {},
   "outputs": [],
   "source": [
    "#Load data from user_behavior_dataset.csv\n",
    "df = pd.read_csv (\"user_behavior_dataset.csv\")"
   ]
  },
  {
   "cell_type": "code",
   "execution_count": 120,
   "id": "79af7c6c-04f2-4b16-abeb-cb48a22afe70",
   "metadata": {},
   "outputs": [
    {
     "name": "stdout",
     "output_type": "stream",
     "text": [
      "     User ID        Device Model Operating System  App Usage Time (min/day)  \\\n",
      "0          1      Google Pixel 5          Android                       393   \n",
      "1          2           OnePlus 9          Android                       268   \n",
      "2          3        Xiaomi Mi 11          Android                       154   \n",
      "3          4      Google Pixel 5          Android                       239   \n",
      "4          5           iPhone 12              iOS                       187   \n",
      "..       ...                 ...              ...                       ...   \n",
      "695      696           iPhone 12              iOS                        92   \n",
      "696      697        Xiaomi Mi 11          Android                       316   \n",
      "697      698      Google Pixel 5          Android                        99   \n",
      "698      699  Samsung Galaxy S21          Android                        62   \n",
      "699      700           OnePlus 9          Android                       212   \n",
      "\n",
      "     Screen On Time (hours/day)  Battery Drain (mAh/day)  \\\n",
      "0                           6.4                     1872   \n",
      "1                           4.7                     1331   \n",
      "2                           4.0                      761   \n",
      "3                           4.8                     1676   \n",
      "4                           4.3                     1367   \n",
      "..                          ...                      ...   \n",
      "695                         3.9                     1082   \n",
      "696                         6.8                     1965   \n",
      "697                         3.1                      942   \n",
      "698                         1.7                      431   \n",
      "699                         5.4                     1306   \n",
      "\n",
      "     Number of Apps Installed  Data Usage (MB/day)  Age  Gender  \\\n",
      "0                          67                 1122   40    Male   \n",
      "1                          42                  944   47  Female   \n",
      "2                          32                  322   42    Male   \n",
      "3                          56                  871   20    Male   \n",
      "4                          58                  988   31  Female   \n",
      "..                        ...                  ...  ...     ...   \n",
      "695                        26                  381   22    Male   \n",
      "696                        68                 1201   59    Male   \n",
      "697                        22                  457   50  Female   \n",
      "698                        13                  224   44    Male   \n",
      "699                        49                  828   23  Female   \n",
      "\n",
      "     User Behavior Class  \n",
      "0                      4  \n",
      "1                      3  \n",
      "2                      2  \n",
      "3                      3  \n",
      "4                      3  \n",
      "..                   ...  \n",
      "695                    2  \n",
      "696                    4  \n",
      "697                    2  \n",
      "698                    1  \n",
      "699                    3  \n",
      "\n",
      "[700 rows x 11 columns]\n"
     ]
    }
   ],
   "source": [
    "#Print the data set\n",
    "print (df)"
   ]
  },
  {
   "cell_type": "code",
   "execution_count": 118,
   "id": "0c22ed70-ae29-4c88-9df7-09e04107a7d0",
   "metadata": {},
   "outputs": [
    {
     "name": "stdout",
     "output_type": "stream",
     "text": [
      "    User ID        Device Model Operating System  App Usage Time (min/day)  \\\n",
      "0         1      Google Pixel 5          Android                       393   \n",
      "1         2           OnePlus 9          Android                       268   \n",
      "2         3        Xiaomi Mi 11          Android                       154   \n",
      "3         4      Google Pixel 5          Android                       239   \n",
      "4         5           iPhone 12              iOS                       187   \n",
      "5         6      Google Pixel 5          Android                        99   \n",
      "6         7  Samsung Galaxy S21          Android                       350   \n",
      "7         8           OnePlus 9          Android                       543   \n",
      "8         9  Samsung Galaxy S21          Android                       340   \n",
      "9        10           iPhone 12              iOS                       424   \n",
      "10       11      Google Pixel 5          Android                        53   \n",
      "11       12           OnePlus 9          Android                       215   \n",
      "12       13           OnePlus 9          Android                       462   \n",
      "13       14        Xiaomi Mi 11          Android                       215   \n",
      "14       15           iPhone 12              iOS                       189   \n",
      "15       16      Google Pixel 5          Android                       503   \n",
      "16       17           OnePlus 9          Android                       132   \n",
      "17       18           iPhone 12              iOS                       299   \n",
      "18       19      Google Pixel 5          Android                        81   \n",
      "19       20           iPhone 12              iOS                       577   \n",
      "\n",
      "    Screen On Time (hours/day)  Battery Drain (mAh/day)  \\\n",
      "0                          6.4                     1872   \n",
      "1                          4.7                     1331   \n",
      "2                          4.0                      761   \n",
      "3                          4.8                     1676   \n",
      "4                          4.3                     1367   \n",
      "5                          2.0                      940   \n",
      "6                          7.3                     1802   \n",
      "7                         11.4                     2956   \n",
      "8                          7.7                     2138   \n",
      "9                          6.6                     1957   \n",
      "10                         1.4                      435   \n",
      "11                         5.5                     1690   \n",
      "12                         6.2                     2303   \n",
      "13                         4.9                     1662   \n",
      "14                         5.4                     1754   \n",
      "15                        10.4                     2571   \n",
      "16                         3.6                      628   \n",
      "17                         5.8                     1431   \n",
      "18                         1.4                      558   \n",
      "19                         8.5                     2774   \n",
      "\n",
      "    Number of Apps Installed  Data Usage (MB/day)  Age  Gender  \\\n",
      "0                         67                 1122   40    Male   \n",
      "1                         42                  944   47  Female   \n",
      "2                         32                  322   42    Male   \n",
      "3                         56                  871   20    Male   \n",
      "4                         58                  988   31  Female   \n",
      "5                         35                  564   31    Male   \n",
      "6                         66                 1054   21  Female   \n",
      "7                         82                 1702   31    Male   \n",
      "8                         75                 1053   42  Female   \n",
      "9                         75                 1301   42    Male   \n",
      "10                        17                  162   34  Female   \n",
      "11                        47                  641   24    Male   \n",
      "12                        65                 1099   57  Female   \n",
      "13                        43                  857   43    Male   \n",
      "14                        53                  779   49  Female   \n",
      "15                        84                 2025   39  Female   \n",
      "16                        32                  344   47  Female   \n",
      "17                        41                  985   44  Female   \n",
      "18                        16                  297   26  Female   \n",
      "19                        89                 2192   29  Female   \n",
      "\n",
      "    User Behavior Class  \n",
      "0                     4  \n",
      "1                     3  \n",
      "2                     2  \n",
      "3                     3  \n",
      "4                     3  \n",
      "5                     2  \n",
      "6                     4  \n",
      "7                     5  \n",
      "8                     4  \n",
      "9                     4  \n",
      "10                    1  \n",
      "11                    3  \n",
      "12                    4  \n",
      "13                    3  \n",
      "14                    3  \n",
      "15                    5  \n",
      "16                    2  \n",
      "17                    3  \n",
      "18                    1  \n",
      "19                    5  \n"
     ]
    }
   ],
   "source": [
    "#Display the first few rows using head()\n",
    "print(df.head(20))"
   ]
  },
  {
   "cell_type": "markdown",
   "id": "c5a4eb0a-5524-4cc4-ae9f-99cca8aa9bc1",
   "metadata": {},
   "source": [
    "#### Step 3: Basic NumPy Operations\n",
    "##### The focus columns of the data set - device model, app usage time, screen on time, number of apps installed, age, and gender - are put into a list and labeled selected_cols. The selected columns are made into an array using the **array()** function. The array is labeled numpy_array. To find the mean, median, and standard deviation, the **mean(), median(), and std()** functions were used. This was used instead of the describe() function because only those three metrics are necessary. The column for app usage time was calculated in minutes per day, but for simplicity's sake, it's been converted to hours per day using division. It was labeled app_usage_time_hours and divided (/) by 60."
   ]
  },
  {
   "cell_type": "code",
   "execution_count": 19,
   "id": "6ae094a9-60a3-4c3b-b3d8-80fd3a0de192",
   "metadata": {},
   "outputs": [],
   "source": [
    "#Device model \n",
    "#App usage time (min/day\n",
    "#Screen on time (hrs/day)\n",
    "#Number of apps installed\n",
    "#Age\n",
    "#Gender\n",
    "selected_cols = [\"Device Model\", \"App Usage Time (min/day)\", \"Screen On Time (hours/day)\", \"Number of Apps Installed\", \"Age\", \"Gender\"]"
   ]
  },
  {
   "cell_type": "code",
   "execution_count": 122,
   "id": "88cdab6f-becd-4b99-a946-620acdc6371c",
   "metadata": {},
   "outputs": [
    {
     "name": "stdout",
     "output_type": "stream",
     "text": [
      "[['Google Pixel 5' 393 6.4 67 40 'Male']\n",
      " ['OnePlus 9' 268 4.7 42 47 'Female']\n",
      " ['Xiaomi Mi 11' 154 4.0 32 42 'Male']\n",
      " ...\n",
      " ['Google Pixel 5' 99 3.1 22 50 'Female']\n",
      " ['Samsung Galaxy S21' 62 1.7 13 44 'Male']\n",
      " ['OnePlus 9' 212 5.4 49 23 'Female']]\n"
     ]
    }
   ],
   "source": [
    "#Putting the selected columns into an array using array() and printing the array\n",
    "numpy_array = np.array (df[selected_cols])\n",
    "print (numpy_array)"
   ]
  },
  {
   "cell_type": "code",
   "execution_count": 161,
   "id": "9cd4228a-0ee9-4392-a8c7-5f3ff7387801",
   "metadata": {},
   "outputs": [
    {
     "name": "stdout",
     "output_type": "stream",
     "text": [
      "App Usage Time (min/day)      271.128571\n",
      "Screen On Time (hours/day)      5.272714\n",
      "Number of Apps Installed       50.681429\n",
      "Age                            38.482857\n",
      "dtype: float64\n",
      "App Usage Time (min/day)      227.5\n",
      "Screen On Time (hours/day)      4.9\n",
      "Number of Apps Installed       49.0\n",
      "Age                            38.0\n",
      "dtype: float64\n",
      "App Usage Time (min/day)      177.199484\n",
      "Screen On Time (hours/day)      3.068584\n",
      "Number of Apps Installed       26.943324\n",
      "Age                            12.012916\n",
      "dtype: float64\n"
     ]
    }
   ],
   "source": [
    "# Mean, median, and standard deviation of the array using mean(), median(), and std().\n",
    "cols_analyze = [\"App Usage Time (min/day)\", \"Screen On Time (hours/day)\", \"Number of Apps Installed\",\"Age\"]\n",
    "#Calculating the mean for each column using mean()\n",
    "means = df[cols_analyze].mean()\n",
    "medians = df[cols_analyze].median()\n",
    "standard_deviations = df[cols_analyze].std()\n",
    "#Print the means, medians, and standard deviations of cols_anaylze\n",
    "print(means)\n",
    "print (medians)\n",
    "print (standard_deviations)"
   ]
  },
  {
   "cell_type": "code",
   "execution_count": 91,
   "id": "8ad762fc-7ce7-4e20-83f0-2301aa581465",
   "metadata": {},
   "outputs": [
    {
     "name": "stdout",
     "output_type": "stream",
     "text": [
      "0      6.550000\n",
      "1      4.466667\n",
      "2      2.566667\n",
      "3      3.983333\n",
      "4      3.116667\n",
      "         ...   \n",
      "695    1.533333\n",
      "696    5.266667\n",
      "697    1.650000\n",
      "698    1.033333\n",
      "699    3.533333\n",
      "Name: App Usage Time (min/day), Length: 700, dtype: float64\n"
     ]
    }
   ],
   "source": [
    "# Convert app usage time from minutes to hours per day\n",
    "app_usage_time_hours = df[\"App Usage Time (min/day)\"] / 60\n",
    "# Print the result\n",
    "print(app_usage_time_hours)"
   ]
  },
  {
   "cell_type": "markdown",
   "id": "320c300f-3f45-4126-bc87-2f9ed51ed023",
   "metadata": {},
   "source": [
    "#### Step 4: Data Cleaning with Pandas\n",
    "##### Using the **isnull()**, the data is checked for missing values. There are no missing values, but if there were, **dropna()** would be used to remove the empty columns. The data set is checked for duplicates using **duplicated()**. There are no duplicate values, but if there were, **drop_duplicates()** would be used to remove them."
   ]
  },
  {
   "cell_type": "code",
   "execution_count": 183,
   "id": "f2bb3ee1-23ad-49de-be01-846a63a3bc75",
   "metadata": {},
   "outputs": [
    {
     "name": "stdout",
     "output_type": "stream",
     "text": [
      "User ID                       0\n",
      "Device Model                  0\n",
      "Operating System              0\n",
      "App Usage Time (min/day)      0\n",
      "Screen On Time (hours/day)    0\n",
      "Battery Drain (mAh/day)       0\n",
      "Number of Apps Installed      0\n",
      "Data Usage (MB/day)           0\n",
      "Age                           0\n",
      "Gender                        0\n",
      "User Behavior Class           0\n",
      "dtype: int64\n"
     ]
    }
   ],
   "source": [
    "# Check for missing values using isnull()\n",
    "#Using sum() function to show the total number of null values\n",
    "missing_values = df.isnull().sum()\n",
    "print (missing_values)\n",
    "#There are no missing values!"
   ]
  },
  {
   "cell_type": "code",
   "execution_count": 187,
   "id": "ea3b6840-581c-4338-8cf0-5e4572077647",
   "metadata": {},
   "outputs": [
    {
     "name": "stdout",
     "output_type": "stream",
     "text": [
      "0\n"
     ]
    }
   ],
   "source": [
    "# Check for duplicate rows using duplicated()\n",
    "#Using sum() function to show the total number of duplicate values\n",
    "duplicates = df.duplicated().sum()\n",
    "print(duplicates)\n",
    "#There are no duplicate values!"
   ]
  },
  {
   "cell_type": "markdown",
   "id": "5aeea2d5-b2bf-4a9f-b982-79d216d73b93",
   "metadata": {},
   "source": [
    "#### Step 5: Data Filtering and Selection\n",
    "##### Using (>) or (<), the data is filtered to fit certain conditions. The column \"App Usage Time (min/day)\" is filtered to show users with an app usage time of over 300 minutes per day. 275 of the 700 sample users have an app usage time greater than 300 minutes per day. The first 4 rows of the device model and app usage time columns are selected using **loc[]**. The **iloc[]** function is used to select data using a numerical index. "
   ]
  },
  {
   "cell_type": "code",
   "execution_count": 193,
   "id": "8e4f1a03-f87f-4ee1-865d-78e57c858136",
   "metadata": {},
   "outputs": [
    {
     "name": "stdout",
     "output_type": "stream",
     "text": [
      "     User ID        Device Model Operating System  App Usage Time (min/day)  \\\n",
      "0          1      Google Pixel 5          Android                       393   \n",
      "6          7  Samsung Galaxy S21          Android                       350   \n",
      "7          8           OnePlus 9          Android                       543   \n",
      "8          9  Samsung Galaxy S21          Android                       340   \n",
      "9         10           iPhone 12              iOS                       424   \n",
      "..       ...                 ...              ...                       ...   \n",
      "689      690  Samsung Galaxy S21          Android                       541   \n",
      "692      693        Xiaomi Mi 11          Android                       378   \n",
      "693      694        Xiaomi Mi 11          Android                       505   \n",
      "694      695  Samsung Galaxy S21          Android                       564   \n",
      "696      697        Xiaomi Mi 11          Android                       316   \n",
      "\n",
      "     Screen On Time (hours/day)  Battery Drain (mAh/day)  \\\n",
      "0                           6.4                     1872   \n",
      "6                           7.3                     1802   \n",
      "7                          11.4                     2956   \n",
      "8                           7.7                     2138   \n",
      "9                           6.6                     1957   \n",
      "..                          ...                      ...   \n",
      "689                         9.5                     2424   \n",
      "692                         6.7                     1898   \n",
      "693                         8.6                     2792   \n",
      "694                         9.7                     2422   \n",
      "696                         6.8                     1965   \n",
      "\n",
      "     Number of Apps Installed  Data Usage (MB/day)  Age  Gender  \\\n",
      "0                          67                 1122   40    Male   \n",
      "6                          66                 1054   21  Female   \n",
      "7                          82                 1702   31    Male   \n",
      "8                          75                 1053   42  Female   \n",
      "9                          75                 1301   42    Male   \n",
      "..                        ...                  ...  ...     ...   \n",
      "689                        98                 1550   32    Male   \n",
      "692                        78                 1455   48  Female   \n",
      "693                        82                 1709   31    Male   \n",
      "694                        83                 1985   34  Female   \n",
      "696                        68                 1201   59    Male   \n",
      "\n",
      "     User Behavior Class  \n",
      "0                      4  \n",
      "6                      4  \n",
      "7                      5  \n",
      "8                      4  \n",
      "9                      4  \n",
      "..                   ...  \n",
      "689                    5  \n",
      "692                    4  \n",
      "693                    5  \n",
      "694                    5  \n",
      "696                    4  \n",
      "\n",
      "[275 rows x 11 columns]\n"
     ]
    }
   ],
   "source": [
    "#Filtering the data set to check for users with more than 300 minutes of app usage time per day.\n",
    "filtered_df = df[df['App Usage Time (min/day)'] > 300]\n",
    "print(filtered_df)"
   ]
  },
  {
   "cell_type": "code",
   "execution_count": 198,
   "id": "4cb6a81f-d4ae-4436-9109-eb0728907f44",
   "metadata": {},
   "outputs": [
    {
     "name": "stdout",
     "output_type": "stream",
     "text": [
      "     Device Model  App Usage Time (min/day)\n",
      "0  Google Pixel 5                       393\n",
      "1       OnePlus 9                       268\n",
      "2    Xiaomi Mi 11                       154\n",
      "3  Google Pixel 5                       239\n"
     ]
    }
   ],
   "source": [
    "#Using loc[] to select certain rows and columns\n",
    "selected_data = df.loc[0:3, ['Device Model', 'App Usage Time (min/day)']]\n",
    "print(selected_data)"
   ]
  },
  {
   "cell_type": "code",
   "execution_count": 201,
   "id": "a0757285-913e-44bc-b9df-4d9d718d6b63",
   "metadata": {},
   "outputs": [
    {
     "name": "stdout",
     "output_type": "stream",
     "text": [
      "   User ID    Device Model Operating System\n",
      "0        1  Google Pixel 5          Android\n",
      "1        2       OnePlus 9          Android\n",
      "2        3    Xiaomi Mi 11          Android\n",
      "3        4  Google Pixel 5          Android\n",
      "4        5       iPhone 12              iOS\n"
     ]
    }
   ],
   "source": [
    "#Using iloc[] to select columns 0-2 and rows 0-4\n",
    "selected_data = df.iloc[0:5, 0:3]\n",
    "print(selected_data)"
   ]
  },
  {
   "cell_type": "markdown",
   "id": "687c8acd-1f32-4998-96ad-5004e579a745",
   "metadata": {},
   "source": [
    "#### Step 6: Sorting and Ranking\n",
    "##### Using **sort_values()**, the data set is sorted into ascending order according to the app usage time. To sort it into ascending order, it has to be \"ascending=true,\" because if \"ascending=false\", the data will be sorted in descending order. The **rank()** function is used to sort the data based on the values. The highest rank is 1, and the rankings go on from there. So, the column \"App Usage Time (min/day)\" was ranked, with the highest value being 486 minutes per day."
   ]
  },
  {
   "cell_type": "code",
   "execution_count": 206,
   "id": "0ae02ff2-4547-4a85-a286-ae8d56fd13f5",
   "metadata": {},
   "outputs": [
    {
     "name": "stdout",
     "output_type": "stream",
     "text": [
      "     User ID        Device Model Operating System  App Usage Time (min/day)  \\\n",
      "355      356  Samsung Galaxy S21          Android                        30   \n",
      "337      338  Samsung Galaxy S21          Android                        30   \n",
      "244      245           OnePlus 9          Android                        30   \n",
      "73        74        Xiaomi Mi 11          Android                        31   \n",
      "163      164           iPhone 12              iOS                        32   \n",
      "..       ...                 ...              ...                       ...   \n",
      "654      655      Google Pixel 5          Android                       594   \n",
      "166      167      Google Pixel 5          Android                       595   \n",
      "184      185        Xiaomi Mi 11          Android                       597   \n",
      "341      342           iPhone 12              iOS                       597   \n",
      "367      368           OnePlus 9          Android                       598   \n",
      "\n",
      "     Screen On Time (hours/day)  Battery Drain (mAh/day)  \\\n",
      "355                         1.9                      574   \n",
      "337                         1.3                      561   \n",
      "244                         1.3                      479   \n",
      "73                          1.1                      585   \n",
      "163                         2.0                      469   \n",
      "..                          ...                      ...   \n",
      "654                        10.5                     2839   \n",
      "166                        11.3                     2968   \n",
      "184                        10.4                     2984   \n",
      "341                        10.3                     2718   \n",
      "367                        11.2                     2876   \n",
      "\n",
      "     Number of Apps Installed  Data Usage (MB/day)  Age  Gender  \\\n",
      "355                        19                  287   45    Male   \n",
      "337                        15                  252   34    Male   \n",
      "244                        16                  253   35    Male   \n",
      "73                         11                  208   50  Female   \n",
      "163                        18                  139   22    Male   \n",
      "..                        ...                  ...  ...     ...   \n",
      "654                        91                 1647   56    Male   \n",
      "166                        88                 2366   30    Male   \n",
      "184                        91                 1564   34  Female   \n",
      "341                        90                 1863   26  Female   \n",
      "367                        85                 2477   58  Female   \n",
      "\n",
      "     User Behavior Class  \n",
      "355                    1  \n",
      "337                    1  \n",
      "244                    1  \n",
      "73                     1  \n",
      "163                    1  \n",
      "..                   ...  \n",
      "654                    5  \n",
      "166                    5  \n",
      "184                    5  \n",
      "341                    5  \n",
      "367                    5  \n",
      "\n",
      "[700 rows x 11 columns]\n"
     ]
    }
   ],
   "source": [
    "#Using sort_values() to sort \"App Usage Time (min/day)\" in ascending order.\n",
    "sorted_df = df.sort_values(by=['App Usage Time (min/day)'], ascending=[True])\n",
    "print(sorted_df)"
   ]
  },
  {
   "cell_type": "code",
   "execution_count": 233,
   "id": "85fcf56b-0615-4913-aeec-ef1b98443388",
   "metadata": {},
   "outputs": [
    {
     "name": "stdout",
     "output_type": "stream",
     "text": [
      "0      486.0\n",
      "1      394.0\n",
      "2      249.0\n",
      "3      367.0\n",
      "4      289.5\n",
      "       ...  \n",
      "695    139.0\n",
      "696    437.0\n",
      "697    155.0\n",
      "698     64.5\n",
      "699    325.0\n",
      "Name: App Usage Time (min/day), Length: 700, dtype: float64\n"
     ]
    }
   ],
   "source": [
    "#Using rank() to rank the data, with 1 being the highest ranking.\n",
    "#Ranking app usage time\n",
    "ranked_col = df[\"App Usage Time (min/day)\"].rank()\n",
    "print(ranked_col)"
   ]
  },
  {
   "cell_type": "markdown",
   "id": "431d7869-c18d-4a65-ab0b-3d2e8a381936",
   "metadata": {},
   "source": [
    "#### Step 7: Grouping and Aggregation\n",
    "##### Using the **groupby()** function, the data set is grouped by operating system - IOS or Android. The **count()** function is used to determine the number of users using each operating system. The count demonstrates that there are more Android users than IOS users in the sample. The **min()** and **max()** functions are used to determine the minimum battery drain and maximum app usage time for the data set, still using the groups based on the operating system. The minimum battery drain is 302 milliamp hours per day for Android users and 308 milliamp hours per day for IOS users. The maximum app usage time per day is 598 minutes for Android users and 597 minutes for IOS users. The **std()** function is used to find the standard deviation of app usage time per day, according to the user's operating system. The standard deviation for Android users is approximately 179 minutes per day and 169 minutes per day for IOS users."
   ]
  },
  {
   "cell_type": "code",
   "execution_count": 244,
   "id": "d0a051a8-0aaa-41ec-961f-1b2c319b514b",
   "metadata": {},
   "outputs": [
    {
     "name": "stdout",
     "output_type": "stream",
     "text": [
      "User Count by Operating System: Operating System\n",
      "Android    554\n",
      "iOS        146\n",
      "Name: User ID, dtype: int64\n"
     ]
    }
   ],
   "source": [
    "#Using groupby() to select a column to work with\n",
    "#Using count() to count the number of users using the operating system\n",
    "user_count = df.groupby('Operating System')['User ID'].count()\n",
    "print(\"User Count by Operating System:\", user_count)"
   ]
  },
  {
   "cell_type": "code",
   "execution_count": 248,
   "id": "6de0232c-070f-491c-a350-c26b7d5c2038",
   "metadata": {},
   "outputs": [
    {
     "name": "stdout",
     "output_type": "stream",
     "text": [
      "Minimum Battery Drain:\n",
      "Operating System\n",
      "Android    302\n",
      "iOS        308\n",
      "Name: Battery Drain (mAh/day), dtype: int64\n"
     ]
    }
   ],
   "source": [
    "#Using min() to find the minimum battery drain in the data set, grouped by operating system\n",
    "min_battery_drain = df.groupby('Operating System')['Battery Drain (mAh/day)'].min()\n",
    "print(\"Minimum Battery Drain:\")\n",
    "print(min_battery_drain)"
   ]
  },
  {
   "cell_type": "code",
   "execution_count": 241,
   "id": "f43b602f-84b0-401f-8c28-53b2536d2a6a",
   "metadata": {},
   "outputs": [
    {
     "name": "stdout",
     "output_type": "stream",
     "text": [
      "Maximum App Usage Time:\n",
      "Operating System\n",
      "Android    598\n",
      "iOS        597\n",
      "Name: App Usage Time (min/day), dtype: int64\n"
     ]
    }
   ],
   "source": [
    "#Using max() to find the maximum app usage time in the data set, grouped by operating system\n",
    "max_app_usage_time = df.groupby('Operating System')['App Usage Time (min/day)'].max()\n",
    "print(\"Maximum App Usage Time:\")\n",
    "print(max_app_usage_time)"
   ]
  },
  {
   "cell_type": "code",
   "execution_count": 252,
   "id": "50deabed-c9b5-42fc-b9d3-c2b4f443063f",
   "metadata": {},
   "outputs": [
    {
     "name": "stdout",
     "output_type": "stream",
     "text": [
      "Standard Deviation of App Usage Time:\n",
      "Operating System\n",
      "Android    179.188678\n",
      "iOS        169.592390\n",
      "Name: App Usage Time (min/day), dtype: float64\n"
     ]
    }
   ],
   "source": [
    "#Using std() to find the standard deviation of app usage time in the data set, grouped by operating system\n",
    "std_app_usage_time = df.groupby('Operating System')['App Usage Time (min/day)'].std()\n",
    "print(\"Standard Deviation of App Usage Time:\")\n",
    "print(std_app_usage_time)"
   ]
  },
  {
   "cell_type": "markdown",
   "id": "34661b0f-b07c-44a6-ba9f-c61b84d8775b",
   "metadata": {},
   "source": [
    "#### Step 8: Data Export\n",
    "##### Using **to_csv()**, the data cleaned and modified data set is saved to a CSV file. This is important so that the data set is available for future reference or modification. Inex=false was included so that the index of the data set will not be included, and the data set will only have the columns."
   ]
  },
  {
   "cell_type": "code",
   "execution_count": 260,
   "id": "9aaa3c33-6006-44a2-a8fe-3af92820d2a4",
   "metadata": {},
   "outputs": [],
   "source": [
    "#Saving the data set to a csv\n",
    "df.to_csv\n",
    "df.to_csv('mobile_device_usage', index=False)\n",
    "#The csv is saved to Files in Jupyter."
   ]
  }
 ],
 "metadata": {
  "kernelspec": {
   "display_name": "Python 3 (ipykernel)",
   "language": "python",
   "name": "python3"
  },
  "language_info": {
   "codemirror_mode": {
    "name": "ipython",
    "version": 3
   },
   "file_extension": ".py",
   "mimetype": "text/x-python",
   "name": "python",
   "nbconvert_exporter": "python",
   "pygments_lexer": "ipython3",
   "version": "3.12.4"
  }
 },
 "nbformat": 4,
 "nbformat_minor": 5
}
